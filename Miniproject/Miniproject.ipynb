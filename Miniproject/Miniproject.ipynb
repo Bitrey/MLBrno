{
  "nbformat": 4,
  "nbformat_minor": 0,
  "metadata": {
    "colab": {
      "provenance": []
    },
    "kernelspec": {
      "name": "python3",
      "display_name": "Python 3"
    },
    "language_info": {
      "name": "python"
    }
  },
  "cells": [
    {
      "cell_type": "markdown",
      "source": [
        "Imports"
      ],
      "metadata": {
        "id": "GgzSjm_TGSrV"
      }
    },
    {
      "cell_type": "code",
      "execution_count": 80,
      "metadata": {
        "id": "972T8kQZGKu_"
      },
      "outputs": [],
      "source": [
        "import pandas as pd\n",
        "from sklearn.preprocessing import StandardScaler\n",
        "from sklearn.cluster import KMeans\n",
        "from sklearn.metrics import silhouette_score\n",
        "import matplotlib.pyplot as plt"
      ]
    },
    {
      "cell_type": "markdown",
      "source": [
        "Reading dataset from Drive"
      ],
      "metadata": {
        "id": "sP6S-giKGWmY"
      }
    },
    {
      "cell_type": "code",
      "source": [
        "from google.colab import drive\n",
        "drive.mount('/content/drive')"
      ],
      "metadata": {
        "colab": {
          "base_uri": "https://localhost:8080/"
        },
        "id": "ORs5VniKH8-i",
        "outputId": "69dbb106-bc46-4962-fddd-2e5baf8c4ae9"
      },
      "execution_count": 81,
      "outputs": [
        {
          "output_type": "stream",
          "name": "stdout",
          "text": [
            "Drive already mounted at /content/drive; to attempt to forcibly remount, call drive.mount(\"/content/drive\", force_remount=True).\n"
          ]
        }
      ]
    },
    {
      "cell_type": "code",
      "source": [
        "dataset = 'drive/MyDrive/ML/Miniproject/dataset.csv'\n",
        "df = pd.read_csv(dataset)\n",
        "df = df.dropna()\n",
        "df.info()"
      ],
      "metadata": {
        "colab": {
          "base_uri": "https://localhost:8080/"
        },
        "id": "6y6DX52TGX4m",
        "outputId": "0f3aa11f-e81b-4576-85da-2e21220ee005"
      },
      "execution_count": 82,
      "outputs": [
        {
          "output_type": "stream",
          "name": "stdout",
          "text": [
            "<class 'pandas.core.frame.DataFrame'>\n",
            "RangeIndex: 19200 entries, 0 to 19199\n",
            "Data columns (total 11 columns):\n",
            " #   Column      Non-Null Count  Dtype  \n",
            "---  ------      --------------  -----  \n",
            " 0   Unnamed: 0  19200 non-null  int64  \n",
            " 1   time [s]    19200 non-null  float64\n",
            " 2   cfo_meas    19200 non-null  int64  \n",
            " 3   cfo_demod   19200 non-null  float64\n",
            " 4   gain_imb    19200 non-null  float64\n",
            " 5   iq_imb      19200 non-null  float64\n",
            " 6   or_off      19200 non-null  float64\n",
            " 7   quadr_err   19200 non-null  float64\n",
            " 8   ph_err      19200 non-null  float64\n",
            " 9   mag_err     19200 non-null  float64\n",
            " 10  evm         19200 non-null  float64\n",
            "dtypes: float64(9), int64(2)\n",
            "memory usage: 1.6 MB\n"
          ]
        }
      ]
    },
    {
      "cell_type": "code",
      "source": [
        "df.describe()"
      ],
      "metadata": {
        "colab": {
          "base_uri": "https://localhost:8080/",
          "height": 338
        },
        "id": "33QvnQcnbORJ",
        "outputId": "4382e4c1-d586-42bb-e417-c0bbf45bfdfc"
      },
      "execution_count": 83,
      "outputs": [
        {
          "output_type": "execute_result",
          "data": {
            "text/plain": [
              "        Unnamed: 0      time [s]      cfo_meas     cfo_demod      gain_imb  \\\n",
              "count  19200.00000  19200.000000  19200.000000  19200.000000  19200.000000   \n",
              "mean    9599.50000  55576.863098   -371.935313   -371.947495      0.044069   \n",
              "std     5542.70692   9172.729635    411.673405    412.653152      0.046804   \n",
              "min        0.00000  38570.683000  -1350.000000  -1362.152710     -0.321390   \n",
              "25%     4799.75000  51357.789500   -594.000000   -588.136505      0.007017   \n",
              "50%     9599.50000  56329.446000   -396.000000   -399.890656      0.060500   \n",
              "75%    14399.25000  61100.247000   -216.000000   -219.575092      0.078351   \n",
              "max    19199.00000  70921.969000    720.000000    737.512390      0.176385   \n",
              "\n",
              "             iq_imb        or_off     quadr_err        ph_err       mag_err  \\\n",
              "count  19200.000000  19200.000000  19200.000000  19200.000000  19200.000000   \n",
              "mean     -35.193488    -31.121596      0.406988      1.232678      1.832523   \n",
              "std        5.399075      3.719265      2.511028      0.240562      0.935943   \n",
              "min      -56.249794    -40.776028     -4.329295      0.855716      0.387086   \n",
              "25%      -38.700617    -35.152596     -0.701437      1.103122      1.011538   \n",
              "50%      -33.658566    -29.676680      1.217092      1.207847      1.789461   \n",
              "75%      -30.964418    -28.147880      2.331270      1.307888      2.393649   \n",
              "max      -28.415138    -26.306427      3.340285     11.439541     10.595811   \n",
              "\n",
              "                evm  \n",
              "count  19200.000000  \n",
              "mean       2.842527  \n",
              "std        0.801663  \n",
              "min        1.645375  \n",
              "25%        2.232470  \n",
              "50%        2.733223  \n",
              "75%        3.302256  \n",
              "max       19.152971  "
            ],
            "text/html": [
              "\n",
              "  <div id=\"df-4791a9e4-e71e-4e98-9a15-edf58d78859f\" class=\"colab-df-container\">\n",
              "    <div>\n",
              "<style scoped>\n",
              "    .dataframe tbody tr th:only-of-type {\n",
              "        vertical-align: middle;\n",
              "    }\n",
              "\n",
              "    .dataframe tbody tr th {\n",
              "        vertical-align: top;\n",
              "    }\n",
              "\n",
              "    .dataframe thead th {\n",
              "        text-align: right;\n",
              "    }\n",
              "</style>\n",
              "<table border=\"1\" class=\"dataframe\">\n",
              "  <thead>\n",
              "    <tr style=\"text-align: right;\">\n",
              "      <th></th>\n",
              "      <th>Unnamed: 0</th>\n",
              "      <th>time [s]</th>\n",
              "      <th>cfo_meas</th>\n",
              "      <th>cfo_demod</th>\n",
              "      <th>gain_imb</th>\n",
              "      <th>iq_imb</th>\n",
              "      <th>or_off</th>\n",
              "      <th>quadr_err</th>\n",
              "      <th>ph_err</th>\n",
              "      <th>mag_err</th>\n",
              "      <th>evm</th>\n",
              "    </tr>\n",
              "  </thead>\n",
              "  <tbody>\n",
              "    <tr>\n",
              "      <th>count</th>\n",
              "      <td>19200.00000</td>\n",
              "      <td>19200.000000</td>\n",
              "      <td>19200.000000</td>\n",
              "      <td>19200.000000</td>\n",
              "      <td>19200.000000</td>\n",
              "      <td>19200.000000</td>\n",
              "      <td>19200.000000</td>\n",
              "      <td>19200.000000</td>\n",
              "      <td>19200.000000</td>\n",
              "      <td>19200.000000</td>\n",
              "      <td>19200.000000</td>\n",
              "    </tr>\n",
              "    <tr>\n",
              "      <th>mean</th>\n",
              "      <td>9599.50000</td>\n",
              "      <td>55576.863098</td>\n",
              "      <td>-371.935313</td>\n",
              "      <td>-371.947495</td>\n",
              "      <td>0.044069</td>\n",
              "      <td>-35.193488</td>\n",
              "      <td>-31.121596</td>\n",
              "      <td>0.406988</td>\n",
              "      <td>1.232678</td>\n",
              "      <td>1.832523</td>\n",
              "      <td>2.842527</td>\n",
              "    </tr>\n",
              "    <tr>\n",
              "      <th>std</th>\n",
              "      <td>5542.70692</td>\n",
              "      <td>9172.729635</td>\n",
              "      <td>411.673405</td>\n",
              "      <td>412.653152</td>\n",
              "      <td>0.046804</td>\n",
              "      <td>5.399075</td>\n",
              "      <td>3.719265</td>\n",
              "      <td>2.511028</td>\n",
              "      <td>0.240562</td>\n",
              "      <td>0.935943</td>\n",
              "      <td>0.801663</td>\n",
              "    </tr>\n",
              "    <tr>\n",
              "      <th>min</th>\n",
              "      <td>0.00000</td>\n",
              "      <td>38570.683000</td>\n",
              "      <td>-1350.000000</td>\n",
              "      <td>-1362.152710</td>\n",
              "      <td>-0.321390</td>\n",
              "      <td>-56.249794</td>\n",
              "      <td>-40.776028</td>\n",
              "      <td>-4.329295</td>\n",
              "      <td>0.855716</td>\n",
              "      <td>0.387086</td>\n",
              "      <td>1.645375</td>\n",
              "    </tr>\n",
              "    <tr>\n",
              "      <th>25%</th>\n",
              "      <td>4799.75000</td>\n",
              "      <td>51357.789500</td>\n",
              "      <td>-594.000000</td>\n",
              "      <td>-588.136505</td>\n",
              "      <td>0.007017</td>\n",
              "      <td>-38.700617</td>\n",
              "      <td>-35.152596</td>\n",
              "      <td>-0.701437</td>\n",
              "      <td>1.103122</td>\n",
              "      <td>1.011538</td>\n",
              "      <td>2.232470</td>\n",
              "    </tr>\n",
              "    <tr>\n",
              "      <th>50%</th>\n",
              "      <td>9599.50000</td>\n",
              "      <td>56329.446000</td>\n",
              "      <td>-396.000000</td>\n",
              "      <td>-399.890656</td>\n",
              "      <td>0.060500</td>\n",
              "      <td>-33.658566</td>\n",
              "      <td>-29.676680</td>\n",
              "      <td>1.217092</td>\n",
              "      <td>1.207847</td>\n",
              "      <td>1.789461</td>\n",
              "      <td>2.733223</td>\n",
              "    </tr>\n",
              "    <tr>\n",
              "      <th>75%</th>\n",
              "      <td>14399.25000</td>\n",
              "      <td>61100.247000</td>\n",
              "      <td>-216.000000</td>\n",
              "      <td>-219.575092</td>\n",
              "      <td>0.078351</td>\n",
              "      <td>-30.964418</td>\n",
              "      <td>-28.147880</td>\n",
              "      <td>2.331270</td>\n",
              "      <td>1.307888</td>\n",
              "      <td>2.393649</td>\n",
              "      <td>3.302256</td>\n",
              "    </tr>\n",
              "    <tr>\n",
              "      <th>max</th>\n",
              "      <td>19199.00000</td>\n",
              "      <td>70921.969000</td>\n",
              "      <td>720.000000</td>\n",
              "      <td>737.512390</td>\n",
              "      <td>0.176385</td>\n",
              "      <td>-28.415138</td>\n",
              "      <td>-26.306427</td>\n",
              "      <td>3.340285</td>\n",
              "      <td>11.439541</td>\n",
              "      <td>10.595811</td>\n",
              "      <td>19.152971</td>\n",
              "    </tr>\n",
              "  </tbody>\n",
              "</table>\n",
              "</div>\n",
              "    <div class=\"colab-df-buttons\">\n",
              "\n",
              "  <div class=\"colab-df-container\">\n",
              "    <button class=\"colab-df-convert\" onclick=\"convertToInteractive('df-4791a9e4-e71e-4e98-9a15-edf58d78859f')\"\n",
              "            title=\"Convert this dataframe to an interactive table.\"\n",
              "            style=\"display:none;\">\n",
              "\n",
              "  <svg xmlns=\"http://www.w3.org/2000/svg\" height=\"24px\" viewBox=\"0 -960 960 960\">\n",
              "    <path d=\"M120-120v-720h720v720H120Zm60-500h600v-160H180v160Zm220 220h160v-160H400v160Zm0 220h160v-160H400v160ZM180-400h160v-160H180v160Zm440 0h160v-160H620v160ZM180-180h160v-160H180v160Zm440 0h160v-160H620v160Z\"/>\n",
              "  </svg>\n",
              "    </button>\n",
              "\n",
              "  <style>\n",
              "    .colab-df-container {\n",
              "      display:flex;\n",
              "      gap: 12px;\n",
              "    }\n",
              "\n",
              "    .colab-df-convert {\n",
              "      background-color: #E8F0FE;\n",
              "      border: none;\n",
              "      border-radius: 50%;\n",
              "      cursor: pointer;\n",
              "      display: none;\n",
              "      fill: #1967D2;\n",
              "      height: 32px;\n",
              "      padding: 0 0 0 0;\n",
              "      width: 32px;\n",
              "    }\n",
              "\n",
              "    .colab-df-convert:hover {\n",
              "      background-color: #E2EBFA;\n",
              "      box-shadow: 0px 1px 2px rgba(60, 64, 67, 0.3), 0px 1px 3px 1px rgba(60, 64, 67, 0.15);\n",
              "      fill: #174EA6;\n",
              "    }\n",
              "\n",
              "    .colab-df-buttons div {\n",
              "      margin-bottom: 4px;\n",
              "    }\n",
              "\n",
              "    [theme=dark] .colab-df-convert {\n",
              "      background-color: #3B4455;\n",
              "      fill: #D2E3FC;\n",
              "    }\n",
              "\n",
              "    [theme=dark] .colab-df-convert:hover {\n",
              "      background-color: #434B5C;\n",
              "      box-shadow: 0px 1px 3px 1px rgba(0, 0, 0, 0.15);\n",
              "      filter: drop-shadow(0px 1px 2px rgba(0, 0, 0, 0.3));\n",
              "      fill: #FFFFFF;\n",
              "    }\n",
              "  </style>\n",
              "\n",
              "    <script>\n",
              "      const buttonEl =\n",
              "        document.querySelector('#df-4791a9e4-e71e-4e98-9a15-edf58d78859f button.colab-df-convert');\n",
              "      buttonEl.style.display =\n",
              "        google.colab.kernel.accessAllowed ? 'block' : 'none';\n",
              "\n",
              "      async function convertToInteractive(key) {\n",
              "        const element = document.querySelector('#df-4791a9e4-e71e-4e98-9a15-edf58d78859f');\n",
              "        const dataTable =\n",
              "          await google.colab.kernel.invokeFunction('convertToInteractive',\n",
              "                                                    [key], {});\n",
              "        if (!dataTable) return;\n",
              "\n",
              "        const docLinkHtml = 'Like what you see? Visit the ' +\n",
              "          '<a target=\"_blank\" href=https://colab.research.google.com/notebooks/data_table.ipynb>data table notebook</a>'\n",
              "          + ' to learn more about interactive tables.';\n",
              "        element.innerHTML = '';\n",
              "        dataTable['output_type'] = 'display_data';\n",
              "        await google.colab.output.renderOutput(dataTable, element);\n",
              "        const docLink = document.createElement('div');\n",
              "        docLink.innerHTML = docLinkHtml;\n",
              "        element.appendChild(docLink);\n",
              "      }\n",
              "    </script>\n",
              "  </div>\n",
              "\n",
              "\n",
              "<div id=\"df-a68df643-0971-4102-8afd-efdbd4e0173b\">\n",
              "  <button class=\"colab-df-quickchart\" onclick=\"quickchart('df-a68df643-0971-4102-8afd-efdbd4e0173b')\"\n",
              "            title=\"Suggest charts\"\n",
              "            style=\"display:none;\">\n",
              "\n",
              "<svg xmlns=\"http://www.w3.org/2000/svg\" height=\"24px\"viewBox=\"0 0 24 24\"\n",
              "     width=\"24px\">\n",
              "    <g>\n",
              "        <path d=\"M19 3H5c-1.1 0-2 .9-2 2v14c0 1.1.9 2 2 2h14c1.1 0 2-.9 2-2V5c0-1.1-.9-2-2-2zM9 17H7v-7h2v7zm4 0h-2V7h2v10zm4 0h-2v-4h2v4z\"/>\n",
              "    </g>\n",
              "</svg>\n",
              "  </button>\n",
              "\n",
              "<style>\n",
              "  .colab-df-quickchart {\n",
              "      --bg-color: #E8F0FE;\n",
              "      --fill-color: #1967D2;\n",
              "      --hover-bg-color: #E2EBFA;\n",
              "      --hover-fill-color: #174EA6;\n",
              "      --disabled-fill-color: #AAA;\n",
              "      --disabled-bg-color: #DDD;\n",
              "  }\n",
              "\n",
              "  [theme=dark] .colab-df-quickchart {\n",
              "      --bg-color: #3B4455;\n",
              "      --fill-color: #D2E3FC;\n",
              "      --hover-bg-color: #434B5C;\n",
              "      --hover-fill-color: #FFFFFF;\n",
              "      --disabled-bg-color: #3B4455;\n",
              "      --disabled-fill-color: #666;\n",
              "  }\n",
              "\n",
              "  .colab-df-quickchart {\n",
              "    background-color: var(--bg-color);\n",
              "    border: none;\n",
              "    border-radius: 50%;\n",
              "    cursor: pointer;\n",
              "    display: none;\n",
              "    fill: var(--fill-color);\n",
              "    height: 32px;\n",
              "    padding: 0;\n",
              "    width: 32px;\n",
              "  }\n",
              "\n",
              "  .colab-df-quickchart:hover {\n",
              "    background-color: var(--hover-bg-color);\n",
              "    box-shadow: 0 1px 2px rgba(60, 64, 67, 0.3), 0 1px 3px 1px rgba(60, 64, 67, 0.15);\n",
              "    fill: var(--button-hover-fill-color);\n",
              "  }\n",
              "\n",
              "  .colab-df-quickchart-complete:disabled,\n",
              "  .colab-df-quickchart-complete:disabled:hover {\n",
              "    background-color: var(--disabled-bg-color);\n",
              "    fill: var(--disabled-fill-color);\n",
              "    box-shadow: none;\n",
              "  }\n",
              "\n",
              "  .colab-df-spinner {\n",
              "    border: 2px solid var(--fill-color);\n",
              "    border-color: transparent;\n",
              "    border-bottom-color: var(--fill-color);\n",
              "    animation:\n",
              "      spin 1s steps(1) infinite;\n",
              "  }\n",
              "\n",
              "  @keyframes spin {\n",
              "    0% {\n",
              "      border-color: transparent;\n",
              "      border-bottom-color: var(--fill-color);\n",
              "      border-left-color: var(--fill-color);\n",
              "    }\n",
              "    20% {\n",
              "      border-color: transparent;\n",
              "      border-left-color: var(--fill-color);\n",
              "      border-top-color: var(--fill-color);\n",
              "    }\n",
              "    30% {\n",
              "      border-color: transparent;\n",
              "      border-left-color: var(--fill-color);\n",
              "      border-top-color: var(--fill-color);\n",
              "      border-right-color: var(--fill-color);\n",
              "    }\n",
              "    40% {\n",
              "      border-color: transparent;\n",
              "      border-right-color: var(--fill-color);\n",
              "      border-top-color: var(--fill-color);\n",
              "    }\n",
              "    60% {\n",
              "      border-color: transparent;\n",
              "      border-right-color: var(--fill-color);\n",
              "    }\n",
              "    80% {\n",
              "      border-color: transparent;\n",
              "      border-right-color: var(--fill-color);\n",
              "      border-bottom-color: var(--fill-color);\n",
              "    }\n",
              "    90% {\n",
              "      border-color: transparent;\n",
              "      border-bottom-color: var(--fill-color);\n",
              "    }\n",
              "  }\n",
              "</style>\n",
              "\n",
              "  <script>\n",
              "    async function quickchart(key) {\n",
              "      const quickchartButtonEl =\n",
              "        document.querySelector('#' + key + ' button');\n",
              "      quickchartButtonEl.disabled = true;  // To prevent multiple clicks.\n",
              "      quickchartButtonEl.classList.add('colab-df-spinner');\n",
              "      try {\n",
              "        const charts = await google.colab.kernel.invokeFunction(\n",
              "            'suggestCharts', [key], {});\n",
              "      } catch (error) {\n",
              "        console.error('Error during call to suggestCharts:', error);\n",
              "      }\n",
              "      quickchartButtonEl.classList.remove('colab-df-spinner');\n",
              "      quickchartButtonEl.classList.add('colab-df-quickchart-complete');\n",
              "    }\n",
              "    (() => {\n",
              "      let quickchartButtonEl =\n",
              "        document.querySelector('#df-a68df643-0971-4102-8afd-efdbd4e0173b button');\n",
              "      quickchartButtonEl.style.display =\n",
              "        google.colab.kernel.accessAllowed ? 'block' : 'none';\n",
              "    })();\n",
              "  </script>\n",
              "</div>\n",
              "    </div>\n",
              "  </div>\n"
            ],
            "application/vnd.google.colaboratory.intrinsic+json": {
              "type": "dataframe",
              "summary": "{\n  \"name\": \"df\",\n  \"rows\": 8,\n  \"fields\": [\n    {\n      \"column\": \"Unnamed: 0\",\n      \"properties\": {\n        \"dtype\": \"number\",\n        \"std\": 6919.553920056133,\n        \"min\": 0.0,\n        \"max\": 19200.0,\n        \"num_unique_values\": 7,\n        \"samples\": [\n          19200.0,\n          9599.5,\n          14399.25\n        ],\n        \"semantic_type\": \"\",\n        \"description\": \"\"\n      }\n    },\n    {\n      \"column\": \"time [s]\",\n      \"properties\": {\n        \"dtype\": \"number\",\n        \"std\": 21386.785825911455,\n        \"min\": 9172.72963496537,\n        \"max\": 70921.969,\n        \"num_unique_values\": 8,\n        \"samples\": [\n          55576.86309822917,\n          56329.445999999996,\n          19200.0\n        ],\n        \"semantic_type\": \"\",\n        \"description\": \"\"\n      }\n    },\n    {\n      \"column\": \"cfo_meas\",\n      \"properties\": {\n        \"dtype\": \"number\",\n        \"std\": 6907.3848309681,\n        \"min\": -1350.0,\n        \"max\": 19200.0,\n        \"num_unique_values\": 8,\n        \"samples\": [\n          -371.9353125,\n          -396.0,\n          19200.0\n        ],\n        \"semantic_type\": \"\",\n        \"description\": \"\"\n      }\n    },\n    {\n      \"column\": \"cfo_demod\",\n      \"properties\": {\n        \"dtype\": \"number\",\n        \"std\": 6907.761876824348,\n        \"min\": -1362.15270996,\n        \"max\": 19200.0,\n        \"num_unique_values\": 8,\n        \"samples\": [\n          -371.9474947994762,\n          -399.8906555175,\n          19200.0\n        ],\n        \"semantic_type\": \"\",\n        \"description\": \"\"\n      }\n    },\n    {\n      \"column\": \"gain_imb\",\n      \"properties\": {\n        \"dtype\": \"number\",\n        \"std\": 6788.220467587449,\n        \"min\": -0.32138955593,\n        \"max\": 19200.0,\n        \"num_unique_values\": 8,\n        \"samples\": [\n          0.044068959181043754,\n          0.06049969047,\n          19200.0\n        ],\n        \"semantic_type\": \"\",\n        \"description\": \"\"\n      }\n    },\n    {\n      \"column\": \"iq_imb\",\n      \"properties\": {\n        \"dtype\": \"number\",\n        \"std\": 6799.246366676321,\n        \"min\": -56.2497940063,\n        \"max\": 19200.0,\n        \"num_unique_values\": 8,\n        \"samples\": [\n          -35.19348801275109,\n          -33.65856552125,\n          19200.0\n        ],\n        \"semantic_type\": \"\",\n        \"description\": \"\"\n      }\n    },\n    {\n      \"column\": \"or_off\",\n      \"properties\": {\n        \"dtype\": \"number\",\n        \"std\": 6797.706234787141,\n        \"min\": -40.7760276794,\n        \"max\": 19200.0,\n        \"num_unique_values\": 8,\n        \"samples\": [\n          -31.121595641871256,\n          -29.6766796112,\n          19200.0\n        ],\n        \"semantic_type\": \"\",\n        \"description\": \"\"\n      }\n    },\n    {\n      \"column\": \"quadr_err\",\n      \"properties\": {\n        \"dtype\": \"number\",\n        \"std\": 6787.984304809655,\n        \"min\": -4.32929468155,\n        \"max\": 19200.0,\n        \"num_unique_values\": 8,\n        \"samples\": [\n          0.4069880963686453,\n          1.217091917995,\n          19200.0\n        ],\n        \"semantic_type\": \"\",\n        \"description\": \"\"\n      }\n    },\n    {\n      \"column\": \"ph_err\",\n      \"properties\": {\n        \"dtype\": \"number\",\n        \"std\": 6787.347898555451,\n        \"min\": 0.24056164089043092,\n        \"max\": 19200.0,\n        \"num_unique_values\": 8,\n        \"samples\": [\n          1.2326778157862266,\n          1.207847476005,\n          19200.0\n        ],\n        \"semantic_type\": \"\",\n        \"description\": \"\"\n      }\n    },\n    {\n      \"column\": \"mag_err\",\n      \"properties\": {\n        \"dtype\": \"number\",\n        \"std\": 6787.268974092322,\n        \"min\": 0.38708582521,\n        \"max\": 19200.0,\n        \"num_unique_values\": 8,\n        \"samples\": [\n          1.8325227723534938,\n          1.7894608974450001,\n          19200.0\n        ],\n        \"semantic_type\": \"\",\n        \"description\": \"\"\n      }\n    },\n    {\n      \"column\": \"evm\",\n      \"properties\": {\n        \"dtype\": \"number\",\n        \"std\": 6786.57558869941,\n        \"min\": 0.8016629971722896,\n        \"max\": 19200.0,\n        \"num_unique_values\": 8,\n        \"samples\": [\n          2.8425268648192934,\n          2.733223199845,\n          19200.0\n        ],\n        \"semantic_type\": \"\",\n        \"description\": \"\"\n      }\n    }\n  ]\n}"
            }
          },
          "metadata": {},
          "execution_count": 83
        }
      ]
    },
    {
      "cell_type": "markdown",
      "source": [
        "Dropping unrelated column `time [s]`"
      ],
      "metadata": {
        "id": "vKyXEt-mGeTd"
      }
    },
    {
      "cell_type": "code",
      "source": [
        "df = df.drop(columns=['time [s]'])"
      ],
      "metadata": {
        "id": "eF3pvG7vGfuL"
      },
      "execution_count": 84,
      "outputs": []
    },
    {
      "cell_type": "markdown",
      "source": [
        "Standardize the features"
      ],
      "metadata": {
        "id": "qCPURW85GsOL"
      }
    },
    {
      "cell_type": "code",
      "source": [
        "scaler = StandardScaler()\n",
        "data_scaled = scaler.fit_transform(df)"
      ],
      "metadata": {
        "id": "8pSVG0NPGrsj"
      },
      "execution_count": 85,
      "outputs": []
    },
    {
      "cell_type": "markdown",
      "source": [
        "Silhouette scores to help determine the optimal number of clusters"
      ],
      "metadata": {
        "id": "UwAZ3y_PdmQG"
      }
    },
    {
      "cell_type": "code",
      "source": [
        "silhouette_scores = []\n",
        "for k in range(2, 15):\n",
        "    kmeans = KMeans(n_clusters=k, random_state=42, n_init='auto')\n",
        "    clusters = kmeans.fit_predict(data_scaled)\n",
        "    score = silhouette_score(data_scaled, clusters)\n",
        "    silhouette_scores.append(score)\n",
        "\n",
        "plt.figure(figsize=(10, 6))\n",
        "plt.plot(range(2, 15), silhouette_scores, marker='o')\n",
        "plt.title('Silhouette Scores')\n",
        "plt.xlabel('Number of clusters')\n",
        "plt.ylabel('Score')\n",
        "plt.show()"
      ],
      "metadata": {
        "colab": {
          "base_uri": "https://localhost:8080/",
          "height": 564
        },
        "id": "_O2d3D7QdkoL",
        "outputId": "cfc58f0b-3653-4da1-e905-34d8fd3bc66b"
      },
      "execution_count": 86,
      "outputs": [
        {
          "output_type": "display_data",
          "data": {
            "text/plain": [
              "<Figure size 1000x600 with 1 Axes>"
            ],
            "image/png": "[encoded data removed]"
          },
          "metadata": {}
        }
      ]
    },
    {
      "cell_type": "markdown",
      "source": [
        "Based on the scores, the optimal number of clusters is **6**."
      ],
      "metadata": {
        "id": "S5DMzZuGdsXN"
      }
    },
    {
      "cell_type": "code",
      "source": [
        "n_clusters = 6\n",
        "kmeans = KMeans(n_clusters=n_clusters, random_state=42, n_init='auto')"
      ],
      "metadata": {
        "id": "CrqsRqj9dze2"
      },
      "execution_count": 92,
      "outputs": []
    },
    {
      "cell_type": "markdown",
      "source": [
        "Model building and training"
      ],
      "metadata": {
        "id": "t_uPlO71HSQs"
      }
    },
    {
      "cell_type": "code",
      "source": [
        "model = kmeans.fit(data_scaled)"
      ],
      "metadata": {
        "id": "zQBUAKxMHTA3"
      },
      "execution_count": 93,
      "outputs": []
    },
    {
      "cell_type": "markdown",
      "source": [
        "Assigning the labels (clusters) back to the original data"
      ],
      "metadata": {
        "id": "RXLvyEqed_-k"
      }
    },
    {
      "cell_type": "code",
      "source": [
        "df['Cluster'] = model.labels_\n",
        "print(df.groupby('Cluster').mean()) # to view the clusters"
      ],
      "metadata": {
        "colab": {
          "base_uri": "https://localhost:8080/"
        },
        "id": "QvnHmH9ieDJ3",
        "outputId": "0b2e2ce7-c1ea-4b5d-dca8-c6a9cde19eaa"
      },
      "execution_count": 94,
      "outputs": [
        {
          "output_type": "stream",
          "name": "stdout",
          "text": [
            "           Unnamed: 0    cfo_meas   cfo_demod  gain_imb     iq_imb     or_off  \\\n",
            "Cluster                                                                         \n",
            "0        14531.886394 -309.237439 -309.571375  0.076153 -34.832204 -29.504231   \n",
            "1         8404.258111 -373.451331 -373.195194 -0.027385 -29.824938 -36.915975   \n",
            "2         2081.552279 -398.171582 -397.411141  0.067195 -45.941784 -27.440290   \n",
            "3        17982.053616  459.201995  459.017013  0.068749 -34.699253 -28.554645   \n",
            "4         8536.793986 -943.043478 -943.620144  0.082947 -38.886206 -28.009903   \n",
            "5         3654.593543 -703.244205 -703.279236  0.037362 -31.664761 -32.305941   \n",
            "\n",
            "         quadr_err    ph_err   mag_err       evm  \n",
            "Cluster                                           \n",
            "0         2.127464  1.214802  1.642107  2.676223  \n",
            "1        -3.691372  1.404538  3.101698  3.858219  \n",
            "2         0.351820  1.069981  0.523183  1.908468  \n",
            "3         2.061410  1.089835  1.556529  2.434912  \n",
            "4         1.181008  1.119352  0.984594  2.165654  \n",
            "5         2.983500  1.357461  2.214881  3.235707  \n"
          ]
        }
      ]
    }
  ]
}