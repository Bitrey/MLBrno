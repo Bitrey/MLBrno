{
  "nbformat": 4,
  "nbformat_minor": 0,
  "metadata": {
    "colab": {
      "provenance": [],
      "gpuType": "A100",
      "machine_shape": "hm"
    },
    "kernelspec": {
      "name": "python3",
      "display_name": "Python 3"
    },
    "language_info": {
      "name": "python"
    },
    "accelerator": "GPU"
  },
  "cells": [
    {
      "cell_type": "code",
      "source": [
        "# Install Optuna for hyperparameter optimization\n",
        "!pip install --quiet optuna optuna-integration"
      ],
      "metadata": {
        "id": "zfabGeBDMLyV"
      },
      "execution_count": 29,
      "outputs": []
    },
    {
      "cell_type": "code",
      "source": [
        "# Connect Google Drive\n",
        "from google.colab import drive\n",
        "drive.mount('/content/drive')\n",
        "\n",
        "drive_basepath = '/content/drive/MyDrive/ML/Project'\n",
        "!unzip -nq '{drive_basepath}/test_data_unlabeled.zip'\n",
        "!unzip -nq '{drive_basepath}/train_data_unlabeled.zip'\n",
        "!cp -n '{drive_basepath}/y_train.csv' ."
      ],
      "metadata": {
        "colab": {
          "base_uri": "https://localhost:8080/"
        },
        "id": "-kfpG20JMOIN",
        "outputId": "a25373dd-2357-4e4c-b96f-e35f29babc27"
      },
      "execution_count": 30,
      "outputs": [
        {
          "output_type": "stream",
          "name": "stdout",
          "text": [
            "Drive already mounted at /content/drive; to attempt to forcibly remount, call drive.mount(\"/content/drive\", force_remount=True).\n"
          ]
        }
      ]
    },
    {
      "cell_type": "code",
      "source": [
        "import os\n",
        "import glob\n",
        "import numpy as np\n",
        "import pandas as pd\n",
        "import cv2\n",
        "import matplotlib.pyplot as plt\n",
        "import keras\n",
        "import re\n",
        "from keras.models import Sequential\n",
        "from keras.layers import Conv2D, MaxPooling2D, Dense, Flatten, Dropout, AlphaDropout\n",
        "from keras.optimizers import Adam\n",
        "from keras.callbacks import ModelCheckpoint, EarlyStopping\n",
        "from keras.models import load_model\n",
        "from keras.utils import plot_model\n",
        "from sklearn.model_selection import train_test_split\n",
        "import optuna\n",
        "from optuna.integration import KerasPruningCallback\n",
        "from optuna.integration import TFKerasPruningCallback\n",
        "import zipfile\n",
        "from PIL import Image\n",
        "from sklearn.model_selection import train_test_split"
      ],
      "metadata": {
        "id": "LxiigsjDMS_F"
      },
      "execution_count": 31,
      "outputs": []
    },
    {
      "cell_type": "code",
      "source": [
        "x_train_path = \"train_data_unlabeled\"\n",
        "y_train_path = \"y_train.csv\"\n",
        "x_test_path = \"test_data_unlabeled\""
      ],
      "metadata": {
        "id": "PzPdzEzsMVN5"
      },
      "execution_count": 32,
      "outputs": []
    },
    {
      "cell_type": "code",
      "source": [
        "# Function for loading test data and preprocessing\n",
        "def load_train_data(images_path, csv_path):\n",
        "    # Read the CSV file\n",
        "    df = pd.read_csv(csv_path)\n",
        "\n",
        "    # Load images and preprocess\n",
        "    images = []\n",
        "    labels = []\n",
        "\n",
        "    for _, row in df.iterrows():\n",
        "        file = os.path.join(images_path, f\"img_{row['id'] + 1}.png\")\n",
        "        if not os.path.exists(file):\n",
        "            print(f\"Image file {file} not found. Skipping.\")\n",
        "            continue\n",
        "\n",
        "        try:\n",
        "            # Open the image\n",
        "            image = Image.open(file)\n",
        "\n",
        "            # Convert to RGB\n",
        "            image = image.convert('RGB')\n",
        "\n",
        "            # Crop the image by 2 pixels from each side, which removes white border\n",
        "            width, height = image.size\n",
        "            left, upper, right, lower = 2, 2, width - 2, height - 2\n",
        "            image = image.crop((left, upper, right, lower))\n",
        "\n",
        "            # Resize to the actual amount of pixels\n",
        "            image = image.resize((50, 44))\n",
        "\n",
        "            # Normalize pixel values\n",
        "            image = np.array(image).astype('float32') / 255.0\n",
        "\n",
        "            images.append(image)\n",
        "            labels.append(row['target'])\n",
        "\n",
        "        except IOError as e:\n",
        "            print(f\"Error reading image {file}: {e}\")\n",
        "            continue\n",
        "\n",
        "    images = np.array(images)\n",
        "    labels = pd.get_dummies(labels)\n",
        "\n",
        "    return images, labels"
      ],
      "metadata": {
        "id": "CesxN_ENMWqf"
      },
      "execution_count": 33,
      "outputs": []
    },
    {
      "cell_type": "code",
      "source": [
        "x_train, y_train = load_train_data(x_train_path, y_train_path)"
      ],
      "metadata": {
        "id": "K0Eg3QeKMbc1"
      },
      "execution_count": 34,
      "outputs": []
    },
    {
      "cell_type": "code",
      "source": [
        "# Check number of samples\n",
        "print(f\"Number of samples in x_train: {len(x_train)}\")\n",
        "print(f\"Number of samples in y_train: {len(y_train)}\")\n",
        "\n",
        "x_train, x_val, y_train, y_val = train_test_split(x_train, y_train, test_size=0.2, random_state=42)"
      ],
      "metadata": {
        "colab": {
          "base_uri": "https://localhost:8080/"
        },
        "id": "_SXkh7ExMjfi",
        "outputId": "0928e63c-e052-4b6e-8150-f228357e394d"
      },
      "execution_count": 35,
      "outputs": [
        {
          "output_type": "stream",
          "name": "stdout",
          "text": [
            "Number of samples in x_train: 16182\n",
            "Number of samples in y_train: 16182\n"
          ]
        }
      ]
    },
    {
      "cell_type": "code",
      "source": [
        "# Define the objective function for Optuna\n",
        "def objective(trial):\n",
        "    # Hyperparameters to be tuned\n",
        "    conv2d_filter = trial.suggest_categorical('conv2d_filter', [32, 64, 128])\n",
        "    dense_units = trial.suggest_categorical('dense_units', [256, 512, 1024])\n",
        "    dropout_rate = trial.suggest_float('dropout_rate', 0.0, 0.7)\n",
        "    learning_rate = trial.suggest_float('learning_rate', 1e-5, 1e-2, log=True)\n",
        "\n",
        "    # Model creation using the suggested hyperparameters\n",
        "    model = Sequential()\n",
        "    model.add(Conv2D(conv2d_filter, (3, 3), activation='relu', input_shape=(44, 50, 3)))\n",
        "    model.add(Conv2D(conv2d_filter, (3, 3), activation='relu'))\n",
        "    model.add(Conv2D(conv2d_filter, (3, 3), activation='relu'))\n",
        "    model.add(MaxPooling2D(pool_size=(2, 2)))\n",
        "    model.add(Flatten())\n",
        "    model.add(Dense(dense_units, activation='relu'))\n",
        "    model.add(Dropout(dropout_rate))\n",
        "    model.add(Dense(4, activation='softmax'))\n",
        "\n",
        "    # Compile the model\n",
        "    optimizer = Adam(learning_rate=learning_rate)\n",
        "    model.compile(optimizer=optimizer, loss='categorical_crossentropy', metrics=['accuracy'])\n",
        "\n",
        "    # Early stopping callback\n",
        "    early_stopping = EarlyStopping(monitor='val_accuracy', patience=5, verbose=1, restore_best_weights=True)\n",
        "\n",
        "    # KerasPruningCallback\n",
        "    pruning_callback = KerasPruningCallback(trial, 'val_accuracy')\n",
        "\n",
        "    # Fit the model\n",
        "    history = model.fit(\n",
        "        x_train,\n",
        "        y_train,\n",
        "        batch_size=64,\n",
        "        epochs=25,  # Modify\n",
        "        callbacks=[early_stopping, pruning_callback],\n",
        "        validation_data=(x_val, y_val),\n",
        "        verbose=0\n",
        "    )\n",
        "\n",
        "    # Evaluate the model on the validation set\n",
        "    score = model.evaluate(x_val, y_val, verbose=1)\n",
        "    return score[1]  # Return the accuracy"
      ],
      "metadata": {
        "id": "G5Rq9Q5LlqeP"
      },
      "execution_count": 36,
      "outputs": []
    },
    {
      "cell_type": "code",
      "source": [
        "# Create a study object and optimize the objective function\n",
        "study = optuna.create_study(direction='maximize')\n",
        "study.optimize(objective, n_trials=25, timeout=600)\n",
        "\n",
        "# Print the best hyperparameters\n",
        "print('Number of finished trials:', len(study.trials))\n",
        "print('Best trial:')\n",
        "trial = study.best_trial\n",
        "\n",
        "print(f'Value: {trial.value}')\n",
        "print('Params: ')\n",
        "for key, value in trial.params.items():\n",
        "    print(f'{key}: {value}')"
      ],
      "metadata": {
        "id": "5PDKcXLolsh8",
        "colab": {
          "base_uri": "https://localhost:8080/"
        },
        "outputId": "7fbfb6fb-ef88-4984-a9c1-266a357450d7"
      },
      "execution_count": 37,
      "outputs": [
        {
          "output_type": "stream",
          "name": "stderr",
          "text": [
            "[I 2024-04-21 14:51:09,222] A new study created in memory with name: no-name-579d2c7b-4c73-43cb-9d97-ec592c95520a\n"
          ]
        },
        {
          "output_type": "stream",
          "name": "stdout",
          "text": [
            "102/102 [==============================] - 0s 3ms/step - loss: 0.1478 - accuracy: 0.9608\n"
          ]
        },
        {
          "output_type": "stream",
          "name": "stderr",
          "text": [
            "[I 2024-04-21 14:51:42,249] Trial 0 finished with value: 0.9607661366462708 and parameters: {'conv2d_filter': 64, 'dense_units': 512, 'dropout_rate': 0.26840942725872924, 'learning_rate': 0.0005544844179847102}. Best is trial 0 with value: 0.9607661366462708.\n"
          ]
        },
        {
          "output_type": "stream",
          "name": "stdout",
          "text": [
            "Restoring model weights from the end of the best epoch: 11.\n",
            "Epoch 16: early stopping\n",
            "102/102 [==============================] - 0s 3ms/step - loss: 0.1314 - accuracy: 0.9673\n"
          ]
        },
        {
          "output_type": "stream",
          "name": "stderr",
          "text": [
            "[I 2024-04-21 14:52:04,154] Trial 1 finished with value: 0.9672536253929138 and parameters: {'conv2d_filter': 64, 'dense_units': 512, 'dropout_rate': 0.17736461707998966, 'learning_rate': 0.0022492017164391183}. Best is trial 1 with value: 0.9672536253929138.\n"
          ]
        },
        {
          "output_type": "stream",
          "name": "stdout",
          "text": [
            "102/102 [==============================] - 0s 3ms/step - loss: 0.1426 - accuracy: 0.9580\n"
          ]
        },
        {
          "output_type": "stream",
          "name": "stderr",
          "text": [
            "[I 2024-04-21 14:52:31,886] Trial 2 finished with value: 0.9579858183860779 and parameters: {'conv2d_filter': 32, 'dense_units': 1024, 'dropout_rate': 0.31924025377807436, 'learning_rate': 0.00013304902535935835}. Best is trial 1 with value: 0.9672536253929138.\n"
          ]
        },
        {
          "output_type": "stream",
          "name": "stdout",
          "text": [
            "102/102 [==============================] - 0s 3ms/step - loss: 0.1686 - accuracy: 0.9323\n"
          ]
        },
        {
          "output_type": "stream",
          "name": "stderr",
          "text": [
            "[I 2024-04-21 14:52:56,965] Trial 3 finished with value: 0.9323447346687317 and parameters: {'conv2d_filter': 32, 'dense_units': 256, 'dropout_rate': 0.189909964351116, 'learning_rate': 6.28950119255094e-05}. Best is trial 1 with value: 0.9672536253929138.\n"
          ]
        },
        {
          "output_type": "stream",
          "name": "stdout",
          "text": [
            "Restoring model weights from the end of the best epoch: 10.\n",
            "Epoch 15: early stopping\n",
            "102/102 [==============================] - 0s 3ms/step - loss: 0.1008 - accuracy: 0.9648\n"
          ]
        },
        {
          "output_type": "stream",
          "name": "stderr",
          "text": [
            "[I 2024-04-21 14:53:27,552] Trial 4 finished with value: 0.964782178401947 and parameters: {'conv2d_filter': 128, 'dense_units': 512, 'dropout_rate': 0.6171082608521129, 'learning_rate': 0.0002730977446259301}. Best is trial 1 with value: 0.9672536253929138.\n",
            "[I 2024-04-21 14:53:30,607] Trial 5 pruned. Trial was pruned at epoch 0.\n",
            "[I 2024-04-21 14:53:33,682] Trial 6 pruned. Trial was pruned at epoch 0.\n",
            "[I 2024-04-21 14:53:37,130] Trial 7 pruned. Trial was pruned at epoch 0.\n",
            "[I 2024-04-21 14:53:41,663] Trial 8 pruned. Trial was pruned at epoch 0.\n",
            "[I 2024-04-21 14:53:45,337] Trial 9 pruned. Trial was pruned at epoch 0.\n",
            "[I 2024-04-21 14:53:48,779] Trial 10 pruned. Trial was pruned at epoch 0.\n",
            "[I 2024-04-21 14:53:54,816] Trial 11 pruned. Trial was pruned at epoch 1.\n",
            "[I 2024-04-21 14:53:58,974] Trial 12 pruned. Trial was pruned at epoch 0.\n",
            "[I 2024-04-21 14:54:19,732] Trial 13 pruned. Trial was pruned at epoch 9.\n",
            "[I 2024-04-21 14:54:24,423] Trial 14 pruned. Trial was pruned at epoch 1.\n",
            "[I 2024-04-21 14:54:28,977] Trial 15 pruned. Trial was pruned at epoch 0.\n",
            "[I 2024-04-21 14:54:37,273] Trial 16 pruned. Trial was pruned at epoch 4.\n",
            "[I 2024-04-21 14:54:49,143] Trial 17 pruned. Trial was pruned at epoch 4.\n",
            "[I 2024-04-21 14:54:52,591] Trial 18 pruned. Trial was pruned at epoch 0.\n",
            "[I 2024-04-21 14:54:59,559] Trial 19 pruned. Trial was pruned at epoch 1.\n",
            "[I 2024-04-21 14:55:07,521] Trial 20 pruned. Trial was pruned at epoch 2.\n",
            "[I 2024-04-21 14:55:13,548] Trial 21 pruned. Trial was pruned at epoch 2.\n",
            "[I 2024-04-21 14:55:17,176] Trial 22 pruned. Trial was pruned at epoch 0.\n",
            "[I 2024-04-21 14:55:21,390] Trial 23 pruned. Trial was pruned at epoch 0.\n",
            "[I 2024-04-21 14:55:26,115] Trial 24 pruned. Trial was pruned at epoch 1.\n"
          ]
        },
        {
          "output_type": "stream",
          "name": "stdout",
          "text": [
            "Number of finished trials: 25\n",
            "Best trial:\n",
            "Value: 0.9672536253929138\n",
            "Params: \n",
            "conv2d_filter: 64\n",
            "dense_units: 512\n",
            "dropout_rate: 0.17736461707998966\n",
            "learning_rate: 0.0022492017164391183\n"
          ]
        }
      ]
    },
    {
      "cell_type": "code",
      "source": [
        "# Retrieve the best hyperparameters from the Optuna study\n",
        "best_conv2d_filter = study.best_params['conv2d_filter']\n",
        "best_dense_units = study.best_params['dense_units']\n",
        "best_dropout_rate = study.best_params['dropout_rate']\n",
        "best_learning_rate = study.best_params['learning_rate']\n",
        "\n",
        "# Create the final model using the best hyperparameters\n",
        "model = Sequential()\n",
        "model.add(Conv2D(best_conv2d_filter, (3, 3), activation='relu', input_shape=(44, 50, 3)))\n",
        "model.add(Conv2D(best_conv2d_filter, (3, 3), activation='relu'))\n",
        "model.add(Conv2D(best_conv2d_filter, (3, 3), activation='relu'))\n",
        "model.add(MaxPooling2D(pool_size=(2, 2)))\n",
        "model.add(Flatten())\n",
        "model.add(Dense(best_dense_units, activation='relu'))\n",
        "model.add(Dropout(best_dropout_rate))\n",
        "model.add(Dense(4, activation='softmax'))\n",
        "\n",
        "# Compile the final model\n",
        "optimizer = Adam(learning_rate=best_learning_rate)\n",
        "model.compile(optimizer=optimizer, loss='categorical_crossentropy', metrics=['accuracy'])\n",
        "\n",
        "early_stopping = EarlyStopping(monitor='val_accuracy', patience=5, verbose=1, restore_best_weights=True)\n",
        "pruning_callback = KerasPruningCallback(trial, 'val_accuracy')\n",
        "\n",
        "# Train the model on the entire training data\n",
        "history = model.fit(\n",
        "    x_train,\n",
        "    y_train,\n",
        "    batch_size=64,\n",
        "    epochs=50,  # Adjust as needed\n",
        "    callbacks=[early_stopping, pruning_callback],\n",
        "    validation_data=(x_val, y_val),\n",
        "    verbose=1\n",
        ")\n",
        "\n",
        "# Evaluate the final model on the validation set\n",
        "final_score = model.evaluate(x_val, y_val, verbose=1)\n",
        "print(\"Final validation accuracy:\", final_score[1])\n",
        "\n",
        "# Save the trained model\n",
        "model.save('final_top_model.keras')"
      ],
      "metadata": {
        "id": "f4n57cu3n2rg",
        "colab": {
          "base_uri": "https://localhost:8080/"
        },
        "outputId": "5e47afcb-6641-4e44-804f-204570eb1d39"
      },
      "execution_count": 38,
      "outputs": [
        {
          "output_type": "stream",
          "name": "stdout",
          "text": [
            "Epoch 1/50\n",
            "203/203 [==============================] - 3s 8ms/step - loss: 0.7009 - accuracy: 0.7198 - val_loss: 0.3534 - val_accuracy: 0.8545\n",
            "Epoch 2/50\n",
            "203/203 [==============================] - 1s 7ms/step - loss: 0.2804 - accuracy: 0.8932 - val_loss: 0.2027 - val_accuracy: 0.9240\n",
            "Epoch 3/50\n",
            "203/203 [==============================] - 1s 7ms/step - loss: 0.1765 - accuracy: 0.9329 - val_loss: 0.1710 - val_accuracy: 0.9361\n",
            "Epoch 4/50\n",
            "203/203 [==============================] - 1s 7ms/step - loss: 0.1223 - accuracy: 0.9531 - val_loss: 0.1531 - val_accuracy: 0.9422\n",
            "Epoch 5/50\n",
            "203/203 [==============================] - 1s 7ms/step - loss: 0.0880 - accuracy: 0.9666 - val_loss: 0.1137 - val_accuracy: 0.9555\n",
            "Epoch 6/50\n",
            "203/203 [==============================] - 1s 6ms/step - loss: 0.0652 - accuracy: 0.9768 - val_loss: 0.2298 - val_accuracy: 0.9459\n",
            "Epoch 7/50\n",
            "203/203 [==============================] - 1s 7ms/step - loss: 0.0666 - accuracy: 0.9772 - val_loss: 0.1410 - val_accuracy: 0.9580\n",
            "Epoch 8/50\n",
            "203/203 [==============================] - 1s 7ms/step - loss: 0.0324 - accuracy: 0.9893 - val_loss: 0.1289 - val_accuracy: 0.9611\n",
            "Epoch 9/50\n",
            "203/203 [==============================] - 1s 6ms/step - loss: 0.0275 - accuracy: 0.9911 - val_loss: 0.1714 - val_accuracy: 0.9530\n",
            "Epoch 10/50\n",
            "203/203 [==============================] - 1s 7ms/step - loss: 0.0299 - accuracy: 0.9890 - val_loss: 0.1298 - val_accuracy: 0.9673\n",
            "Epoch 11/50\n",
            "203/203 [==============================] - 1s 6ms/step - loss: 0.0276 - accuracy: 0.9906 - val_loss: 0.1212 - val_accuracy: 0.9666\n",
            "Epoch 12/50\n",
            "203/203 [==============================] - 1s 7ms/step - loss: 0.0296 - accuracy: 0.9910 - val_loss: 0.1552 - val_accuracy: 0.9605\n",
            "Epoch 13/50\n",
            "203/203 [==============================] - 1s 7ms/step - loss: 0.0188 - accuracy: 0.9930 - val_loss: 0.1325 - val_accuracy: 0.9666\n",
            "Epoch 14/50\n",
            "203/203 [==============================] - 1s 7ms/step - loss: 0.0084 - accuracy: 0.9973 - val_loss: 0.1548 - val_accuracy: 0.9592\n",
            "Epoch 15/50\n",
            "202/203 [============================>.] - ETA: 0s - loss: 0.0151 - accuracy: 0.9953Restoring model weights from the end of the best epoch: 10.\n",
            "203/203 [==============================] - 1s 7ms/step - loss: 0.0151 - accuracy: 0.9953 - val_loss: 0.1696 - val_accuracy: 0.9568\n",
            "Epoch 15: early stopping\n",
            "102/102 [==============================] - 0s 3ms/step - loss: 0.1298 - accuracy: 0.9673\n",
            "Final validation accuracy: 0.9672536253929138\n"
          ]
        }
      ]
    },
    {
      "cell_type": "code",
      "source": [
        "# Get the accuracy history\n",
        "train_accuracy = history.history['accuracy']\n",
        "val_accuracy = history.history['val_accuracy']\n",
        "\n",
        "# Plot the training and validation accuracy curves\n",
        "plt.plot(train_accuracy, label='Training Accuracy')\n",
        "plt.plot(val_accuracy, label='Validation Accuracy')\n",
        "plt.xlabel('Epoch')\n",
        "plt.ylabel('Accuracy')\n",
        "plt.title('Training and Validation Accuracy')\n",
        "plt.legend()\n",
        "\n",
        "# Save the plot as a PNG file\n",
        "plt.savefig('accuracy_curves.png')\n",
        "\n",
        "plt.show()"
      ],
      "metadata": {
        "colab": {
          "base_uri": "https://localhost:8080/",
          "height": 472
        },
        "id": "mVLnw6B9Grc9",
        "outputId": "f24ddcd3-afb5-4bba-f9a6-faf4fed5e07e"
      },
      "execution_count": 39,
      "outputs": [
        {
          "output_type": "display_data",
          "data": {
            "text/plain": [
              "<Figure size 640x480 with 1 Axes>"
            ],
            "image/png": "[encoded data removed]"
          },
          "metadata": {}
        }
      ]
    },
    {
      "cell_type": "code",
      "source": [
        "# Sorting function that sorts strings numerically when they contain numbers\n",
        "def natural_sort_key(file_name):\n",
        "    return [int(s) if s.isdigit() else s.lower() for s in re.split('(\\d+)', file_name)]\n",
        "\n",
        "# Function to load and preprocess test data\n",
        "def load_test_data(images_path):\n",
        "    images = []\n",
        "\n",
        "    # Load PNG images\n",
        "    all_files = os.listdir(images_path)\n",
        "    png_files = [file for file in all_files if file.endswith('.png')]\n",
        "\n",
        "    # Sort images by filename using natural sort order\n",
        "    file_names = sorted(png_files, key=natural_sort_key)\n",
        "\n",
        "    for file_name in file_names:\n",
        "        file = os.path.join(images_path, file_name)\n",
        "        try:\n",
        "            # Open the image\n",
        "            image = Image.open(file)\n",
        "\n",
        "            # Convert to RGB\n",
        "            image = image.convert('RGB')\n",
        "\n",
        "            # Crop the image by 2 pixels from each side, which removes white border\n",
        "            width, height = image.size\n",
        "            left, upper, right, lower = 2, 2, width - 2, height - 2\n",
        "            image = image.crop((left, upper, right, lower))\n",
        "\n",
        "            # Resize to actual amount of pixels\n",
        "            image = image.resize((50, 44))\n",
        "\n",
        "            # Normalize pixel values\n",
        "            image = np.array(image).astype('float32') / 255.0\n",
        "\n",
        "            images.append(image)\n",
        "\n",
        "        except IOError as e:\n",
        "            print(f\"Error reading image {file}: {e}\")\n",
        "            continue\n",
        "\n",
        "    images = np.array(images)\n",
        "    return images"
      ],
      "metadata": {
        "id": "oIJS8wtPVJh8"
      },
      "execution_count": 40,
      "outputs": []
    },
    {
      "cell_type": "code",
      "source": [
        "# Load model\n",
        "saved_model = load_model('final_top_model.keras')"
      ],
      "metadata": {
        "id": "7P7EA-nKWnkH"
      },
      "execution_count": 46,
      "outputs": []
    },
    {
      "cell_type": "code",
      "source": [
        "plot_model(saved_model, to_file='model_plot.png', show_shapes=False, show_layer_names=True, rankdir='LR')"
      ],
      "metadata": {
        "colab": {
          "base_uri": "https://localhost:8080/",
          "height": 60
        },
        "id": "CUVBBX2cLiL3",
        "outputId": "b935a131-05d0-4692-8ecc-3b409695d2ae"
      },
      "execution_count": 50,
      "outputs": [
        {
          "output_type": "execute_result",
          "data": {
            "image/png": "[encoded data removed]",
            "text/plain": [
              "<IPython.core.display.Image object>"
            ]
          },
          "metadata": {},
          "execution_count": 50
        }
      ]
    },
    {
      "cell_type": "code",
      "source": [
        "# Load test data\n",
        "x_test = load_test_data(x_test_path)\n",
        "\n",
        "# Generate output predictions y_test from x_test\n",
        "y_test_pred = saved_model.predict(x_test)"
      ],
      "metadata": {
        "id": "2YJCzklUCi1T",
        "colab": {
          "base_uri": "https://localhost:8080/"
        },
        "outputId": "521dcec3-9985-42ae-8374-76de7b78a5eb"
      },
      "execution_count": 42,
      "outputs": [
        {
          "output_type": "stream",
          "name": "stdout",
          "text": [
            "150/150 [==============================] - 0s 2ms/step\n"
          ]
        }
      ]
    },
    {
      "cell_type": "code",
      "source": [
        "# Apply a probability threshold\n",
        "y_test_labels = np.argmax(y_test_pred, axis=1)\n",
        "\n",
        "print(y_test_pred)\n",
        "print(y_test_labels)\n",
        "\n",
        "# Create a CSV file in the right format for Kaggle submission\n",
        "y_test = pd.DataFrame({'id': range(len(y_test_labels)), 'target': y_test_labels})\n",
        "y_test.to_csv('y_test.csv', index=False)"
      ],
      "metadata": {
        "colab": {
          "base_uri": "https://localhost:8080/"
        },
        "id": "tN-GOjO6W-g6",
        "outputId": "783126eb-392e-4bff-cd5d-b5f5fb7fdcc0"
      },
      "execution_count": 43,
      "outputs": [
        {
          "output_type": "stream",
          "name": "stdout",
          "text": [
            "[[1.1715054e-11 9.9995852e-01 4.1430663e-05 3.0913043e-09]\n",
            " [9.9972281e-21 8.0777278e-09 4.4778750e-09 1.0000000e+00]\n",
            " [2.6037273e-29 7.5827395e-16 1.9771632e-12 1.0000000e+00]\n",
            " ...\n",
            " [1.0000000e+00 7.9722852e-12 1.8285781e-11 8.8202704e-13]\n",
            " [1.0000000e+00 6.1844128e-13 2.4777966e-11 2.7722562e-14]\n",
            " [4.9793064e-10 8.3076587e-04 9.9916923e-01 6.6294357e-12]]\n",
            "[1 3 3 ... 0 0 2]\n"
          ]
        }
      ]
    },
    {
      "cell_type": "code",
      "source": [
        "!cp model_plot.png '{drive_basepath}'\n",
        "!cp accuracy_curves.png '{drive_basepath}'\n",
        "!cp y_test.csv '{drive_basepath}'\n",
        "!cp final_top_model.keras '{drive_basepath}'"
      ],
      "metadata": {
        "id": "_FkNCjIqmC1j"
      },
      "execution_count": 44,
      "outputs": []
    }
  ]
}