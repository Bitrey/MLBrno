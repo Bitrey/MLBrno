{
  "nbformat": 4,
  "nbformat_minor": 0,
  "metadata": {
    "colab": {
      "provenance": [],
      "gpuType": "L4",
      "machine_shape": "hm"
    },
    "kernelspec": {
      "name": "python3",
      "display_name": "Python 3"
    },
    "language_info": {
      "name": "python"
    },
    "accelerator": "GPU"
  },
  "cells": [
    {
      "cell_type": "code",
      "source": [
        "# Install Optuna for hyperparameter optimization\n",
        "!pip install --quiet optuna optuna-integration"
      ],
      "metadata": {
        "id": "zfabGeBDMLyV"
      },
      "execution_count": null,
      "outputs": []
    },
    {
      "cell_type": "code",
      "source": [
        "# Connect Google Drive\n",
        "from google.colab import drive\n",
        "drive.mount('/content/drive')\n",
        "\n",
        "drive_basepath = '/content/drive/MyDrive/ML/Project'\n",
        "!unzip -nq '{drive_basepath}/test_data_unlabeled.zip'\n",
        "!unzip -nq '{drive_basepath}/train_data_unlabeled.zip'\n",
        "!cp -n '{drive_basepath}/y_train.csv' ."
      ],
      "metadata": {
        "colab": {
          "base_uri": "https://localhost:8080/"
        },
        "id": "-kfpG20JMOIN",
        "outputId": "9f99e087-f073-4dcf-b93f-c5d402d84b87"
      },
      "execution_count": null,
      "outputs": [
        {
          "output_type": "stream",
          "name": "stdout",
          "text": [
            "Drive already mounted at /content/drive; to attempt to forcibly remount, call drive.mount(\"/content/drive\", force_remount=True).\n"
          ]
        }
      ]
    },
    {
      "cell_type": "code",
      "source": [
        "import os\n",
        "import glob\n",
        "import numpy as np\n",
        "import pandas as pd\n",
        "import cv2\n",
        "import matplotlib.pyplot as plt\n",
        "import keras\n",
        "import re\n",
        "from keras.models import Sequential\n",
        "from keras.layers import Conv2D, MaxPooling2D, Dense, Flatten, Dropout, AlphaDropout\n",
        "from keras.optimizers import Adam\n",
        "from keras.callbacks import ModelCheckpoint, EarlyStopping\n",
        "from keras.models import load_model\n",
        "from sklearn.model_selection import train_test_split\n",
        "import optuna\n",
        "from optuna.integration import KerasPruningCallback\n",
        "from optuna.integration import TFKerasPruningCallback\n",
        "import zipfile\n",
        "from PIL import Image\n",
        "from sklearn.model_selection import train_test_split"
      ],
      "metadata": {
        "id": "LxiigsjDMS_F"
      },
      "execution_count": null,
      "outputs": []
    },
    {
      "cell_type": "code",
      "source": [
        "x_train_path = \"train_data_unlabeled\"\n",
        "y_train_path = \"y_train.csv\"\n",
        "x_test_path = \"test_data_unlabeled\""
      ],
      "metadata": {
        "id": "PzPdzEzsMVN5"
      },
      "execution_count": null,
      "outputs": []
    },
    {
      "cell_type": "code",
      "source": [
        "# Function for loading test data and preprocessing\n",
        "def load_train_data(images_path, csv_path):\n",
        "    # Read the CSV file\n",
        "    df = pd.read_csv(csv_path)\n",
        "\n",
        "    # Load images and preprocess\n",
        "    images = []\n",
        "    labels = []\n",
        "\n",
        "    for _, row in df.iterrows():\n",
        "        file = os.path.join(images_path, f\"img_{row['id'] + 1}.png\")\n",
        "        if not os.path.exists(file):\n",
        "            print(f\"Image file {file} not found. Skipping.\")\n",
        "            continue\n",
        "\n",
        "        try:\n",
        "            # Open the image\n",
        "            image = Image.open(file)\n",
        "\n",
        "            # Convert to RGB\n",
        "            image = image.convert('RGB')\n",
        "\n",
        "            # Crop the image by 2 pixels from each side, which removes white border\n",
        "            width, height = image.size\n",
        "            left, upper, right, lower = 2, 2, width - 2, height - 2\n",
        "            image = image.crop((left, upper, right, lower))\n",
        "\n",
        "            # Resize to the actual amount of pixels\n",
        "            image = image.resize((50, 44))\n",
        "\n",
        "            # Normalize pixel values\n",
        "            image = np.array(image).astype('float32') / 255.0\n",
        "\n",
        "            images.append(image)\n",
        "            labels.append(row['target'])\n",
        "\n",
        "        except IOError as e:\n",
        "            print(f\"Error reading image {file}: {e}\")\n",
        "            continue\n",
        "\n",
        "    images = np.array(images)\n",
        "    labels = pd.get_dummies(labels)\n",
        "\n",
        "    return images, labels"
      ],
      "metadata": {
        "id": "CesxN_ENMWqf"
      },
      "execution_count": null,
      "outputs": []
    },
    {
      "cell_type": "code",
      "source": [
        "x_train, y_train = load_train_data(x_train_path, y_train_path)"
      ],
      "metadata": {
        "id": "K0Eg3QeKMbc1"
      },
      "execution_count": null,
      "outputs": []
    },
    {
      "cell_type": "code",
      "source": [
        "# Check number of samples\n",
        "print(f\"Number of samples in x_train: {len(x_train)}\")\n",
        "print(f\"Number of samples in y_train: {len(y_train)}\")\n",
        "\n",
        "x_train, x_val, y_train, y_val = train_test_split(x_train, y_train, test_size=0.2, random_state=42)"
      ],
      "metadata": {
        "colab": {
          "base_uri": "https://localhost:8080/"
        },
        "id": "_SXkh7ExMjfi",
        "outputId": "4e3a234f-f3e2-4f88-a451-99bbd823e241"
      },
      "execution_count": null,
      "outputs": [
        {
          "output_type": "stream",
          "name": "stdout",
          "text": [
            "Number of samples in x_train: 16182\n",
            "Number of samples in y_train: 16182\n"
          ]
        }
      ]
    },
    {
      "cell_type": "code",
      "source": [
        "# Define the objective function for Optuna\n",
        "def objective(trial):\n",
        "    # Hyperparameters to be tuned\n",
        "    conv2d_filter = trial.suggest_categorical('conv2d_filter', [32, 64, 128])\n",
        "    dense_units = trial.suggest_categorical('dense_units', [256, 512, 1024])\n",
        "    dropout_rate = trial.suggest_float('dropout_rate', 0.0, 0.7)\n",
        "    learning_rate = trial.suggest_float('learning_rate', 1e-5, 1e-2, log=True)\n",
        "\n",
        "    # Model creation using the suggested hyperparameters\n",
        "    model = Sequential()\n",
        "    model.add(Conv2D(conv2d_filter, (3, 3), activation='relu', input_shape=(44, 50, 3)))\n",
        "    model.add(Conv2D(conv2d_filter, (3, 3), activation='relu'))\n",
        "    model.add(Conv2D(conv2d_filter, (3, 3), activation='relu'))\n",
        "    model.add(MaxPooling2D(pool_size=(2, 2)))\n",
        "    model.add(Flatten())\n",
        "    model.add(Dense(dense_units, activation='relu'))\n",
        "    model.add(Dropout(dropout_rate))\n",
        "    model.add(Dense(4, activation='softmax'))\n",
        "\n",
        "    # Compile the model\n",
        "    optimizer = Adam(learning_rate=learning_rate)\n",
        "    model.compile(optimizer=optimizer, loss='categorical_crossentropy', metrics=['accuracy'])\n",
        "\n",
        "    # Early stopping callback\n",
        "    early_stopping = EarlyStopping(monitor='val_accuracy', patience=5, verbose=1, restore_best_weights=True)\n",
        "\n",
        "    # KerasPruningCallback\n",
        "    pruning_callback = KerasPruningCallback(trial, 'val_accuracy')\n",
        "\n",
        "    # Fit the model\n",
        "    history = model.fit(\n",
        "        x_train,\n",
        "        y_train,\n",
        "        batch_size=64,\n",
        "        epochs=25,  # Modify\n",
        "        callbacks=[early_stopping, pruning_callback],\n",
        "        validation_data=(x_val, y_val),\n",
        "        verbose=0\n",
        "    )\n",
        "\n",
        "    # Evaluate the model on the validation set\n",
        "    score = model.evaluate(x_val, y_val, verbose=1)\n",
        "    return score[1]  # Return the accuracy"
      ],
      "metadata": {
        "id": "G5Rq9Q5LlqeP"
      },
      "execution_count": null,
      "outputs": []
    },
    {
      "cell_type": "code",
      "source": [
        "# Create a study object and optimize the objective function\n",
        "study = optuna.create_study(direction='maximize')\n",
        "study.optimize(objective, n_trials=25, timeout=600)\n",
        "\n",
        "# Print the best hyperparameters\n",
        "print('Number of finished trials:', len(study.trials))\n",
        "print('Best trial:')\n",
        "trial = study.best_trial\n",
        "\n",
        "print(f'Value: {trial.value}')\n",
        "print('Params: ')\n",
        "for key, value in trial.params.items():\n",
        "    print(f'{key}: {value}')"
      ],
      "metadata": {
        "id": "5PDKcXLolsh8",
        "colab": {
          "base_uri": "https://localhost:8080/"
        },
        "outputId": "2fda58a8-1c67-4db1-979d-cda28e3d1ed3"
      },
      "execution_count": null,
      "outputs": [
        {
          "output_type": "stream",
          "name": "stderr",
          "text": [
            "[I 2024-04-20 17:03:44,289] A new study created in memory with name: no-name-6217f882-0352-4e84-80b2-c4709ad3edf0\n"
          ]
        },
        {
          "output_type": "stream",
          "name": "stdout",
          "text": [
            "Restoring model weights from the end of the best epoch: 18.\n",
            "Epoch 23: early stopping\n",
            "102/102 [==============================] - 1s 6ms/step - loss: 0.1038 - accuracy: 0.9694\n"
          ]
        },
        {
          "output_type": "stream",
          "name": "stderr",
          "text": [
            "[I 2024-04-20 17:06:07,793] Trial 0 finished with value: 0.9694161415100098 and parameters: {'conv2d_filter': 128, 'dense_units': 512, 'dropout_rate': 0.23670986176646383, 'learning_rate': 0.00011908830753699454}. Best is trial 0 with value: 0.9694161415100098.\n"
          ]
        },
        {
          "output_type": "stream",
          "name": "stdout",
          "text": [
            "102/102 [==============================] - 0s 3ms/step - loss: 0.1624 - accuracy: 0.9404\n"
          ]
        },
        {
          "output_type": "stream",
          "name": "stderr",
          "text": [
            "[I 2024-04-20 17:06:53,670] Trial 1 finished with value: 0.940376877784729 and parameters: {'conv2d_filter': 32, 'dense_units': 1024, 'dropout_rate': 0.28452826768414524, 'learning_rate': 3.586992374289203e-05}. Best is trial 0 with value: 0.9694161415100098.\n"
          ]
        },
        {
          "output_type": "stream",
          "name": "stdout",
          "text": [
            "102/102 [==============================] - 0s 3ms/step - loss: 0.1633 - accuracy: 0.9413\n"
          ]
        },
        {
          "output_type": "stream",
          "name": "stderr",
          "text": [
            "[I 2024-04-20 17:08:05,194] Trial 2 finished with value: 0.9413036704063416 and parameters: {'conv2d_filter': 64, 'dense_units': 512, 'dropout_rate': 0.4886990367289937, 'learning_rate': 3.155184201544214e-05}. Best is trial 0 with value: 0.9694161415100098.\n"
          ]
        },
        {
          "output_type": "stream",
          "name": "stdout",
          "text": [
            "102/102 [==============================] - 0s 3ms/step - loss: 0.2526 - accuracy: 0.9076\n"
          ]
        },
        {
          "output_type": "stream",
          "name": "stderr",
          "text": [
            "[I 2024-04-20 17:09:17,080] Trial 3 finished with value: 0.9076305031776428 and parameters: {'conv2d_filter': 64, 'dense_units': 512, 'dropout_rate': 0.04613750771005593, 'learning_rate': 1.4509953261245506e-05}. Best is trial 0 with value: 0.9694161415100098.\n"
          ]
        },
        {
          "output_type": "stream",
          "name": "stdout",
          "text": [
            "Restoring model weights from the end of the best epoch: 13.\n",
            "Epoch 18: early stopping\n",
            "102/102 [==============================] - 1s 6ms/step - loss: 0.1237 - accuracy: 0.9614\n"
          ]
        },
        {
          "output_type": "stream",
          "name": "stderr",
          "text": [
            "[I 2024-04-20 17:10:57,974] Trial 4 finished with value: 0.9613839983940125 and parameters: {'conv2d_filter': 128, 'dense_units': 256, 'dropout_rate': 0.04957183022931278, 'learning_rate': 0.00020983294446563823}. Best is trial 0 with value: 0.9694161415100098.\n"
          ]
        },
        {
          "output_type": "stream",
          "name": "stdout",
          "text": [
            "102/102 [==============================] - 0s 3ms/step - loss: 0.1172 - accuracy: 0.9676\n"
          ]
        },
        {
          "output_type": "stream",
          "name": "stderr",
          "text": [
            "[I 2024-04-20 17:11:44,535] Trial 5 finished with value: 0.9675625562667847 and parameters: {'conv2d_filter': 32, 'dense_units': 1024, 'dropout_rate': 0.37384361182591247, 'learning_rate': 0.0001869190303900711}. Best is trial 0 with value: 0.9694161415100098.\n"
          ]
        },
        {
          "output_type": "stream",
          "name": "stdout",
          "text": [
            "Restoring model weights from the end of the best epoch: 20.\n",
            "Epoch 25: early stopping\n",
            "102/102 [==============================] - 0s 4ms/step - loss: 0.1615 - accuracy: 0.9642\n"
          ]
        },
        {
          "output_type": "stream",
          "name": "stderr",
          "text": [
            "[I 2024-04-20 17:13:13,758] Trial 6 finished with value: 0.9641643762588501 and parameters: {'conv2d_filter': 64, 'dense_units': 1024, 'dropout_rate': 0.18547616007204878, 'learning_rate': 0.0035717641711660755}. Best is trial 0 with value: 0.9694161415100098.\n"
          ]
        },
        {
          "output_type": "stream",
          "name": "stdout",
          "text": [
            "Restoring model weights from the end of the best epoch: 9.\n",
            "Epoch 14: early stopping\n",
            "102/102 [==============================] - 1s 5ms/step - loss: 0.1221 - accuracy: 0.9605\n"
          ]
        },
        {
          "output_type": "stream",
          "name": "stderr",
          "text": [
            "[I 2024-04-20 17:14:29,390] Trial 7 finished with value: 0.9604572057723999 and parameters: {'conv2d_filter': 128, 'dense_units': 256, 'dropout_rate': 0.2591805413932094, 'learning_rate': 0.002956944278122597}. Best is trial 0 with value: 0.9694161415100098.\n"
          ]
        },
        {
          "output_type": "stream",
          "name": "stdout",
          "text": [
            "Number of finished trials: 8\n",
            "Best trial:\n",
            "Value: 0.9694161415100098\n",
            "Params: \n",
            "conv2d_filter: 128\n",
            "dense_units: 512\n",
            "dropout_rate: 0.23670986176646383\n",
            "learning_rate: 0.00011908830753699454\n"
          ]
        }
      ]
    },
    {
      "cell_type": "code",
      "source": [
        "# Retrieve the best hyperparameters from the Optuna study\n",
        "best_conv2d_filter = study.best_params['conv2d_filter']\n",
        "best_dense_units = study.best_params['dense_units']\n",
        "best_dropout_rate = study.best_params['dropout_rate']\n",
        "best_learning_rate = study.best_params['learning_rate']\n",
        "\n",
        "# Create the final model using the best hyperparameters\n",
        "model = Sequential()\n",
        "model.add(Conv2D(best_conv2d_filter, (3, 3), activation='relu', input_shape=(44, 50, 3)))\n",
        "model.add(Conv2D(best_conv2d_filter, (3, 3), activation='relu'))\n",
        "model.add(Conv2D(best_conv2d_filter, (3, 3), activation='relu'))\n",
        "model.add(MaxPooling2D(pool_size=(2, 2)))\n",
        "model.add(Flatten())\n",
        "model.add(Dense(best_dense_units, activation='relu'))\n",
        "model.add(Dropout(best_dropout_rate))\n",
        "model.add(Dense(4, activation='softmax'))\n",
        "\n",
        "# Compile the final model\n",
        "optimizer = Adam(learning_rate=best_learning_rate)\n",
        "model.compile(optimizer=optimizer, loss='categorical_crossentropy', metrics=['accuracy'])\n",
        "\n",
        "early_stopping = EarlyStopping(monitor='val_accuracy', patience=5, verbose=1, restore_best_weights=True)\n",
        "pruning_callback = KerasPruningCallback(trial, 'val_accuracy')\n",
        "\n",
        "# Train the model on the entire training data\n",
        "history = model.fit(\n",
        "    x_train,\n",
        "    y_train,\n",
        "    batch_size=64,\n",
        "    epochs=50,  # Adjust as needed\n",
        "    callbacks=[early_stopping, pruning_callback],\n",
        "    validation_data=(x_val, y_val),\n",
        "    verbose=1\n",
        ")\n",
        "\n",
        "# Evaluate the final model on the validation set\n",
        "final_score = model.evaluate(x_val, y_val, verbose=1)\n",
        "print(\"Final validation accuracy:\", final_score[1])\n",
        "\n",
        "# Save the trained model\n",
        "model.save('final_top_model.keras')"
      ],
      "metadata": {
        "id": "f4n57cu3n2rg",
        "colab": {
          "base_uri": "https://localhost:8080/"
        },
        "outputId": "52fc5d87-16e0-40d2-c606-fddd0d2fa9c0"
      },
      "execution_count": null,
      "outputs": [
        {
          "output_type": "stream",
          "name": "stdout",
          "text": [
            "Epoch 1/50\n",
            "  5/203 [..............................] - ETA: 5s - loss: 1.3528 - accuracy: 0.2812"
          ]
        },
        {
          "output_type": "stream",
          "name": "stderr",
          "text": [
            "WARNING:tensorflow:Callback method `on_train_batch_end` is slow compared to the batch time (batch time: 0.0092s vs `on_train_batch_end` time: 0.0154s). Check your callbacks.\n"
          ]
        },
        {
          "output_type": "stream",
          "name": "stdout",
          "text": [
            "203/203 [==============================] - 8s 33ms/step - loss: 0.8306 - accuracy: 0.6535 - val_loss: 0.5217 - val_accuracy: 0.7998\n",
            "Epoch 2/50\n",
            "203/203 [==============================] - 6s 31ms/step - loss: 0.4496 - accuracy: 0.8253 - val_loss: 0.3564 - val_accuracy: 0.8758\n",
            "Epoch 3/50\n",
            "203/203 [==============================] - 6s 32ms/step - loss: 0.3237 - accuracy: 0.8736 - val_loss: 0.2570 - val_accuracy: 0.9055\n",
            "Epoch 4/50\n",
            "203/203 [==============================] - 6s 31ms/step - loss: 0.2601 - accuracy: 0.9008 - val_loss: 0.2244 - val_accuracy: 0.9123\n",
            "Epoch 5/50\n",
            "203/203 [==============================] - 6s 32ms/step - loss: 0.2012 - accuracy: 0.9245 - val_loss: 0.1930 - val_accuracy: 0.9277\n",
            "Epoch 6/50\n",
            "203/203 [==============================] - 6s 31ms/step - loss: 0.1683 - accuracy: 0.9380 - val_loss: 0.1613 - val_accuracy: 0.9388\n",
            "Epoch 7/50\n",
            "203/203 [==============================] - 6s 32ms/step - loss: 0.1364 - accuracy: 0.9509 - val_loss: 0.1508 - val_accuracy: 0.9422\n",
            "Epoch 8/50\n",
            "203/203 [==============================] - 6s 31ms/step - loss: 0.1088 - accuracy: 0.9614 - val_loss: 0.1340 - val_accuracy: 0.9524\n",
            "Epoch 9/50\n",
            "203/203 [==============================] - 6s 31ms/step - loss: 0.0980 - accuracy: 0.9645 - val_loss: 0.1413 - val_accuracy: 0.9469\n",
            "Epoch 10/50\n",
            "203/203 [==============================] - 6s 31ms/step - loss: 0.0767 - accuracy: 0.9719 - val_loss: 0.1241 - val_accuracy: 0.9512\n",
            "Epoch 11/50\n",
            "203/203 [==============================] - 6s 32ms/step - loss: 0.0560 - accuracy: 0.9806 - val_loss: 0.1288 - val_accuracy: 0.9571\n",
            "Epoch 12/50\n",
            "203/203 [==============================] - 6s 32ms/step - loss: 0.0496 - accuracy: 0.9827 - val_loss: 0.1115 - val_accuracy: 0.9629\n",
            "Epoch 13/50\n",
            "203/203 [==============================] - 6s 31ms/step - loss: 0.0435 - accuracy: 0.9847 - val_loss: 0.1121 - val_accuracy: 0.9608\n",
            "Epoch 14/50\n",
            "203/203 [==============================] - 6s 32ms/step - loss: 0.0326 - accuracy: 0.9896 - val_loss: 0.1103 - val_accuracy: 0.9632\n",
            "Epoch 15/50\n",
            "203/203 [==============================] - 6s 31ms/step - loss: 0.0281 - accuracy: 0.9901 - val_loss: 0.1368 - val_accuracy: 0.9608\n",
            "Epoch 16/50\n",
            "203/203 [==============================] - 6s 32ms/step - loss: 0.0319 - accuracy: 0.9879 - val_loss: 0.1234 - val_accuracy: 0.9635\n",
            "Epoch 17/50\n",
            "203/203 [==============================] - 6s 31ms/step - loss: 0.0228 - accuracy: 0.9931 - val_loss: 0.1178 - val_accuracy: 0.9632\n",
            "Epoch 18/50\n",
            "203/203 [==============================] - 6s 32ms/step - loss: 0.0165 - accuracy: 0.9958 - val_loss: 0.1175 - val_accuracy: 0.9694\n",
            "Epoch 19/50\n",
            "203/203 [==============================] - 6s 31ms/step - loss: 0.0169 - accuracy: 0.9946 - val_loss: 0.1241 - val_accuracy: 0.9648\n",
            "Epoch 20/50\n",
            "203/203 [==============================] - 6s 31ms/step - loss: 0.0147 - accuracy: 0.9957 - val_loss: 0.1191 - val_accuracy: 0.9629\n",
            "Epoch 21/50\n",
            "203/203 [==============================] - 6s 32ms/step - loss: 0.0104 - accuracy: 0.9971 - val_loss: 0.1092 - val_accuracy: 0.9710\n",
            "Epoch 22/50\n",
            "203/203 [==============================] - 6s 31ms/step - loss: 0.0114 - accuracy: 0.9959 - val_loss: 0.1348 - val_accuracy: 0.9639\n",
            "Epoch 23/50\n",
            "203/203 [==============================] - 6s 31ms/step - loss: 0.0138 - accuracy: 0.9957 - val_loss: 0.1253 - val_accuracy: 0.9676\n",
            "Epoch 24/50\n",
            "203/203 [==============================] - 6s 31ms/step - loss: 0.0178 - accuracy: 0.9947 - val_loss: 0.1161 - val_accuracy: 0.9694\n",
            "Epoch 25/50\n",
            "203/203 [==============================] - 6s 31ms/step - loss: 0.0154 - accuracy: 0.9957 - val_loss: 0.1062 - val_accuracy: 0.9688\n",
            "Epoch 26/50\n",
            "203/203 [==============================] - 6s 32ms/step - loss: 0.0080 - accuracy: 0.9976 - val_loss: 0.1259 - val_accuracy: 0.9716\n",
            "Epoch 27/50\n",
            "203/203 [==============================] - 6s 31ms/step - loss: 0.0074 - accuracy: 0.9981 - val_loss: 0.1286 - val_accuracy: 0.9682\n",
            "Epoch 28/50\n",
            "203/203 [==============================] - 6s 31ms/step - loss: 0.0052 - accuracy: 0.9983 - val_loss: 0.1225 - val_accuracy: 0.9691\n",
            "Epoch 29/50\n",
            "203/203 [==============================] - 6s 31ms/step - loss: 0.0088 - accuracy: 0.9975 - val_loss: 0.1250 - val_accuracy: 0.9694\n",
            "Epoch 30/50\n",
            "203/203 [==============================] - 6s 31ms/step - loss: 0.0080 - accuracy: 0.9975 - val_loss: 0.1157 - val_accuracy: 0.9703\n",
            "Epoch 31/50\n",
            "201/203 [============================>.] - ETA: 0s - loss: 0.0080 - accuracy: 0.9978Restoring model weights from the end of the best epoch: 26.\n",
            "203/203 [==============================] - 6s 32ms/step - loss: 0.0079 - accuracy: 0.9978 - val_loss: 0.1256 - val_accuracy: 0.9669\n",
            "Epoch 31: early stopping\n",
            "102/102 [==============================] - 1s 6ms/step - loss: 0.1259 - accuracy: 0.9716\n",
            "Final validation accuracy: 0.9715785980224609\n"
          ]
        }
      ]
    },
    {
      "cell_type": "code",
      "source": [
        "# Sorting function that sorts strings numerically when they contain numbers\n",
        "def natural_sort_key(file_name):\n",
        "    return [int(s) if s.isdigit() else s.lower() for s in re.split('(\\d+)', file_name)]\n",
        "\n",
        "# Function to load and preprocess test data\n",
        "def load_test_data(images_path):\n",
        "    images = []\n",
        "\n",
        "    # Load PNG images\n",
        "    all_files = os.listdir(images_path)\n",
        "    png_files = [file for file in all_files if file.endswith('.png')]\n",
        "\n",
        "    # Sort images by filename using natural sort order\n",
        "    file_names = sorted(png_files, key=natural_sort_key)\n",
        "\n",
        "    for file_name in file_names:\n",
        "        file = os.path.join(images_path, file_name)\n",
        "        try:\n",
        "            # Open the image\n",
        "            image = Image.open(file)\n",
        "\n",
        "            # Convert to RGB\n",
        "            image = image.convert('RGB')\n",
        "\n",
        "            # Crop the image by 2 pixels from each side, which removes white border\n",
        "            width, height = image.size\n",
        "            left, upper, right, lower = 2, 2, width - 2, height - 2\n",
        "            image = image.crop((left, upper, right, lower))\n",
        "\n",
        "            # Resize to actual amount of pixels\n",
        "            image = image.resize((50, 44))\n",
        "\n",
        "            # Normalize pixel values\n",
        "            image = np.array(image).astype('float32') / 255.0\n",
        "\n",
        "            images.append(image)\n",
        "\n",
        "        except IOError as e:\n",
        "            print(f\"Error reading image {file}: {e}\")\n",
        "            continue\n",
        "\n",
        "    images = np.array(images)\n",
        "    return images"
      ],
      "metadata": {
        "id": "oIJS8wtPVJh8"
      },
      "execution_count": null,
      "outputs": []
    },
    {
      "cell_type": "code",
      "source": [
        "# Load model\n",
        "saved_model = load_model('final_top_model.keras')\n",
        "\n",
        "# Load test data\n",
        "x_test = load_test_data(x_test_path)\n",
        "\n",
        "# Generate output predictions y_test from x_test\n",
        "y_test_pred = saved_model.predict(x_test)"
      ],
      "metadata": {
        "colab": {
          "base_uri": "https://localhost:8080/"
        },
        "id": "7P7EA-nKWnkH",
        "outputId": "b66aa65d-986c-4ef7-d41e-312f1626ee6f"
      },
      "execution_count": null,
      "outputs": [
        {
          "output_type": "stream",
          "name": "stdout",
          "text": [
            "150/150 [==============================] - 1s 7ms/step\n"
          ]
        }
      ]
    },
    {
      "cell_type": "code",
      "source": [
        "# Apply a probability threshold\n",
        "y_test_labels = np.argmax(y_test_pred, axis=1)\n",
        "\n",
        "print(y_test_pred)\n",
        "print(y_test_labels)\n",
        "\n",
        "# Create a CSV file in the right format for Kaggle submission\n",
        "y_test = pd.DataFrame({'id': range(len(y_test_labels)), 'target': y_test_labels})\n",
        "y_test.to_csv('y_test.csv', index=False)"
      ],
      "metadata": {
        "colab": {
          "base_uri": "https://localhost:8080/"
        },
        "id": "tN-GOjO6W-g6",
        "outputId": "2e26ed3c-04a0-4b6b-8ac1-8d5bf73acfc4"
      },
      "execution_count": null,
      "outputs": [
        {
          "output_type": "stream",
          "name": "stdout",
          "text": [
            "[[5.37341449e-16 9.99976039e-01 2.39582350e-05 2.51419856e-15]\n",
            " [6.80670135e-30 3.53805838e-08 1.76447923e-08 1.00000000e+00]\n",
            " [5.97472995e-33 1.04375344e-16 3.35356500e-11 1.00000000e+00]\n",
            " ...\n",
            " [1.00000000e+00 2.38144245e-15 7.41090555e-15 4.84907219e-14]\n",
            " [1.00000000e+00 5.79723378e-16 3.05050403e-15 1.10119721e-14]\n",
            " [1.26533202e-08 1.40807490e-04 9.99859214e-01 1.24525634e-08]]\n",
            "[1 3 3 ... 0 0 2]\n"
          ]
        }
      ]
    },
    {
      "cell_type": "code",
      "source": [
        "!cp y_test.csv '{drive_basepath}'\n",
        "!cp final_top_model.keras '{drive_basepath}'"
      ],
      "metadata": {
        "id": "_FkNCjIqmC1j"
      },
      "execution_count": null,
      "outputs": []
    },
    {
      "cell_type": "markdown",
      "source": [
        "as"
      ],
      "metadata": {
        "id": "Kz2iop3ywLHR"
      }
    }
  ]
}